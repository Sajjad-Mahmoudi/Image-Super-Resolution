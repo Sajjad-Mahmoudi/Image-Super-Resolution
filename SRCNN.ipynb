{
 "cells": [
  {
   "cell_type": "markdown",
   "id": "8a84e2d0",
   "metadata": {
    "id": "8a84e2d0"
   },
   "source": [
    "# The requirements"
   ]
  },
  {
   "cell_type": "markdown",
   "id": "594fe824",
   "metadata": {},
   "source": [
    "The current implementation is mostly inspired by the github repository, \n",
    "[SRCNN-keras](https://github.com/MarkPrecursor/SRCNN-keras)"
   ]
  },
  {
   "cell_type": "code",
   "execution_count": 2,
   "id": "RBeWHvXLY4SV",
   "metadata": {
    "colab": {
     "base_uri": "https://localhost:8080/"
    },
    "executionInfo": {
     "elapsed": 24689,
     "status": "ok",
     "timestamp": 1642617808301,
     "user": {
      "displayName": "Viktor Stavrinopoulos",
      "photoUrl": "https://lh3.googleusercontent.com/a/default-user=s64",
      "userId": "13023228101679582268"
     },
     "user_tz": -60
    },
    "id": "RBeWHvXLY4SV",
    "outputId": "6443b379-022d-4534-bdc4-bbe8f8bace44"
   },
   "outputs": [
    {
     "name": "stdout",
     "output_type": "stream",
     "text": [
      "Mounted at /content/drive\n"
     ]
    }
   ],
   "source": [
    "# connect to google drive\n",
    "from google.colab import drive\n",
    "drive.mount('/content/drive')"
   ]
  },
  {
   "cell_type": "code",
   "execution_count": 3,
   "id": "0b6a16c4",
   "metadata": {
    "colab": {
     "base_uri": "https://localhost:8080/"
    },
    "executionInfo": {
     "elapsed": 5961,
     "status": "ok",
     "timestamp": 1642618127083,
     "user": {
      "displayName": "Viktor Stavrinopoulos",
      "photoUrl": "https://lh3.googleusercontent.com/a/default-user=s64",
      "userId": "13023228101679582268"
     },
     "user_tz": -60
    },
    "id": "0b6a16c4",
    "outputId": "c5ca9a30-e8f2-4b69-f1bc-247654108ea2"
   },
   "outputs": [
    {
     "name": "stdout",
     "output_type": "stream",
     "text": [
      "Python: 3.7.12 (default, Sep 10 2021, 00:21:48) \n",
      "[GCC 7.5.0]\n",
      "torch: 1.10.0+cu111\n",
      "OpenCV: 4.1.2\n",
      "NumPy: 1.19.5\n",
      "Matplotlib: 3.2.2\n",
      "Scikit-Image: 0.18.3\n"
     ]
    }
   ],
   "source": [
    "# check package versions\n",
    "import sys\n",
    "import torch\n",
    "import cv2\n",
    "import numpy\n",
    "import matplotlib\n",
    "import skimage\n",
    "\n",
    "print('Python: {}'.format(sys.version))\n",
    "print('torch: {}'.format(torch.__version__))\n",
    "print('OpenCV: {}'.format(cv2.__version__))\n",
    "print('NumPy: {}'.format(numpy.__version__))\n",
    "print('Matplotlib: {}'.format(matplotlib.__version__))\n",
    "print('Scikit-Image: {}'.format(skimage.__version__))"
   ]
  },
  {
   "cell_type": "code",
   "execution_count": 4,
   "id": "8b8555b0",
   "metadata": {
    "executionInfo": {
     "elapsed": 397,
     "status": "ok",
     "timestamp": 1642618179310,
     "user": {
      "displayName": "Viktor Stavrinopoulos",
      "photoUrl": "https://lh3.googleusercontent.com/a/default-user=s64",
      "userId": "13023228101679582268"
     },
     "user_tz": -60
    },
    "id": "8b8555b0"
   },
   "outputs": [],
   "source": [
    "# import the necessary packages\n",
    "import torch.nn as nn\n",
    "import torch.nn.functional as f\n",
    "import torch.optim as optim\n",
    "from __future__ import print_function, division\n",
    "from torch.utils.data import Dataset, DataLoader, TensorDataset\n",
    "from torchvision import transforms, utils, models\n",
    "from torchsummary import summary\n",
    "import warnings\n",
    "warnings.filterwarnings(\"ignore\")\n",
    "import matplotlib.pyplot as plt\n",
    "plt.ion()   # interactive mode\n",
    "\n",
    "from skimage.metrics import structural_similarity as ssim\n",
    "import cv2\n",
    "import numpy as np\n",
    "import math\n",
    "import os\n",
    "from PIL import Image\n",
    "import h5py\n",
    "\n",
    "# python magic function, displays pyplot figures in the notebook\n",
    "%matplotlib inline"
   ]
  },
  {
   "cell_type": "markdown",
   "id": "f59ac42f",
   "metadata": {
    "id": "f59ac42f"
   },
   "source": [
    "# Data Preprocessing"
   ]
  },
  {
   "cell_type": "code",
   "execution_count": 5,
   "id": "5128968c",
   "metadata": {
    "colab": {
     "base_uri": "https://localhost:8080/"
    },
    "executionInfo": {
     "elapsed": 7010,
     "status": "ok",
     "timestamp": 1642618189271,
     "user": {
      "displayName": "Viktor Stavrinopoulos",
      "photoUrl": "https://lh3.googleusercontent.com/a/default-user=s64",
      "userId": "13023228101679582268"
     },
     "user_tz": -60
    },
    "id": "5128968c",
    "outputId": "0e4f0dd8-7c45-4cb9-da15-1f6a7538d8e1"
   },
   "outputs": [
    {
     "name": "stdout",
     "output_type": "stream",
     "text": [
      "The images are in the \"RGB\" format\n"
     ]
    }
   ],
   "source": [
    "# check the format of the images\n",
    "sample = cv2.imread('/content/drive/MyDrive/DIV2K/DIV2K_train_HR/0001.png')\n",
    "img = Image.fromarray(sample)\n",
    "print('The images are in the \"{}\" format'.format(img.mode))"
   ]
  },
  {
   "cell_type": "markdown",
   "id": "ff994ebc",
   "metadata": {
    "id": "ff994ebc"
   },
   "source": [
    "## Give the paths of images in your local machine"
   ]
  },
  {
   "cell_type": "code",
   "execution_count": null,
   "id": "d094f085",
   "metadata": {
    "id": "d094f085"
   },
   "outputs": [],
   "source": [
    "'''\n",
    "DO NOT RUN THIS CELL. READ COMMENTS FIRST\n",
    "'''\n",
    "# these paths are not used to run the notebook because they all were once used to create the patches \n",
    "# so, the patches is already produced and stored as \".h5\" files (see section 3.1)\n",
    "train_path_dataX2bic = r'DIV2K/DIV2K_train_LR_bicubic/X2/'\n",
    "train_path_dataX3bic = r'DIV2K/DIV2K_train_LR_bicubic/X3/'\n",
    "train_path_dataX4bic = r'DIV2K/DIV2K_train_LR_bicubic/X4/'\n",
    "train_path_dataX2un = r'DIV2K/DIV2K_train_LR_unknown/X2/'\n",
    "train_path_dataX3un = r'DIV2K/DIV2K_train_LR_unknown/X3/'\n",
    "train_path_dataX4un = r'DIV2K/DIV2K_train_LR_unknown/X4/'\n",
    "train_path_label = r'DIV2K/DIV2K_train_HR/'\n",
    "\n",
    "valid_path_dataX2bic = r'DIV2K/DIV2K_valid_LR_bicubic/X2/'\n",
    "valid_path_dataX3bic = r'DIV2K/DIV2K_valid_LR_bicubic/X3/'\n",
    "valid_path_dataX4bic = r'DIV2K/DIV2K_valid_LR_bicubic/X4/'\n",
    "valid_path_dataX2un = r'DIV2K/DIV2K_valid_LR_unknown/X2/'\n",
    "valid_path_dataX3un = r'DIV2K/DIV2K_valid_LR_unknown/X3/'\n",
    "valid_path_dataX4un = r'DIV2K/DIV2K_valid_LR_unknown/X4/'\n",
    "valid_path_label = r'DIV2K/DIV2K_valid_HR/'"
   ]
  },
  {
   "cell_type": "markdown",
   "id": "a10dbc6e",
   "metadata": {
    "id": "a10dbc6e"
   },
   "source": [
    "## Define the functions to be used in preprocessing the images\n",
    "\n",
    "### the function \"prepare_data\" is used to create some random patches of an image that is used for fine tuning the parameters. For each image, the function produces 30 random patches with the size of 32 x 32 and 20 x 20 for the data and its corresponding labels. we crop the label because in the network, the input image is reduced in shape (see section 4)"
   ]
  },
  {
   "cell_type": "code",
   "execution_count": 6,
   "id": "1ebdfabb",
   "metadata": {
    "executionInfo": {
     "elapsed": 843,
     "status": "ok",
     "timestamp": 1642618255444,
     "user": {
      "displayName": "Viktor Stavrinopoulos",
      "photoUrl": "https://lh3.googleusercontent.com/a/default-user=s64",
      "userId": "13023228101679582268"
     },
     "user_tz": -60
    },
    "id": "1ebdfabb"
   },
   "outputs": [],
   "source": [
    "# optional parameters\n",
    "Random_Crop = 30\n",
    "Patch_size = 32\n",
    "label_size = 20\n",
    "conv_side = 6   # = (f1 + f2 + f3 - 3) // 2 = 6\n",
    "scale = 2\n",
    "\n",
    "\n",
    "def prepare_data(path_data, path_label):\n",
    "    \n",
    "    name_data = os.listdir(path_data)\n",
    "    name_label = os.listdir(path_label)\n",
    "    name_data = sorted(name_data)\n",
    "    name_label = sorted(name_label)\n",
    "    nums = name_data.__len__()\n",
    "    \n",
    "    # arrays used to save the patches of training image used for fine tuning the parameters\n",
    "    data = np.zeros((nums * Random_Crop, 1, Patch_size, Patch_size), dtype=np.double)\n",
    "    label = np.zeros((nums * Random_Crop, 1, label_size, label_size), dtype=np.double)\n",
    "\n",
    "    for i in range(nums):\n",
    "        # read the high-res image and the corresponding low-res one\n",
    "        name_hr = path_label + name_label[i]\n",
    "        name_lr = path_data + name_data[i]\n",
    "        hr_img = cv2.imread(name_hr, cv2.IMREAD_COLOR)\n",
    "        lr_img = cv2.imread(name_lr, cv2.IMREAD_COLOR)\n",
    "        shape_hr = hr_img.shape\n",
    "        shape_lr = lr_img.shape\n",
    "        \n",
    "        # convert BGR to YCrCb and take the Y channel\n",
    "        hr_img = cv2.cvtColor(hr_img, cv2.COLOR_BGR2YCrCb)\n",
    "        hr_img = hr_img[:, :, 0]\n",
    "        lr_img = cv2.cvtColor(lr_img, cv2.COLOR_BGR2YCrCb)\n",
    "        lr_img = lr_img[:, :, 0]\n",
    "\n",
    "        # resize the low-res image to the corresponding high-res one\n",
    "        lr_img = cv2.resize(lr_img, (shape_hr[1], shape_hr[0]), interpolation=cv2.INTER_CUBIC)\n",
    "\n",
    "        # produce Random_Crop random coordinate to crop training image\n",
    "        Points_x = np.random.randint(0, min(shape_hr[0], shape_hr[1]) - Patch_size, Random_Crop)\n",
    "        Points_y = np.random.randint(0, min(shape_hr[0], shape_hr[1]) - Patch_size, Random_Crop)\n",
    "\n",
    "        # produce, normalize ,and store the patches\n",
    "        for j in range(Random_Crop):\n",
    "            lr_patch = lr_img[Points_x[j]: Points_x[j] + Patch_size, Points_y[j]: Points_y[j] + Patch_size]\n",
    "            hr_patch = hr_img[Points_x[j]: Points_x[j] + Patch_size, Points_y[j]: Points_y[j] + Patch_size]\n",
    "\n",
    "            lr_patch = lr_patch.astype(float) / 255.\n",
    "            hr_patch = hr_patch.astype(float) / 255.\n",
    "\n",
    "            data[i * Random_Crop + j, 0, :, :] = lr_patch\n",
    "            label[i * Random_Crop + j, 0, :, :] = hr_patch[conv_side: -conv_side, conv_side: -conv_side]\n",
    "\n",
    "    return data, label\n"
   ]
  },
  {
   "cell_type": "markdown",
   "id": "59a78e93",
   "metadata": {
    "id": "59a78e93"
   },
   "source": [
    "### the function \"prepare_crop_data\" is used to create patches of every image that is used to train the network from scratch. The number of patches created for each image depends on the size of the image and the hyper parameters, block_step and block_size"
   ]
  },
  {
   "cell_type": "code",
   "execution_count": 7,
   "id": "7576dd07",
   "metadata": {
    "executionInfo": {
     "elapsed": 7,
     "status": "ok",
     "timestamp": 1642618259466,
     "user": {
      "displayName": "Viktor Stavrinopoulos",
      "photoUrl": "https://lh3.googleusercontent.com/a/default-user=s64",
      "userId": "13023228101679582268"
     },
     "user_tz": -60
    },
    "id": "7576dd07"
   },
   "outputs": [],
   "source": [
    "BLOCK_STEP = 16\n",
    "BLOCK_SIZE = 32\n",
    "\n",
    "\n",
    "def prepare_crop_data(path_data, path_label):\n",
    "    \n",
    "    name_data = os.listdir(path_data)\n",
    "    name_label = os.listdir(path_label)\n",
    "    name_data = sorted(name_data)\n",
    "    name_label = sorted(name_label)\n",
    "    nums = name_data.__len__()\n",
    "    \n",
    "    # lists to save the patches for training the network\n",
    "    data = []\n",
    "    label = []\n",
    "\n",
    "    for i in range(nums):\n",
    "\n",
    "        # read the high-res image and the corresponding low-res one\n",
    "        name_hr = path_label + name_label[i]\n",
    "        name_lr = path_data + name_data[i]\n",
    "        hr_img = cv2.imread(name_hr, cv2.IMREAD_COLOR)\n",
    "        lr_img = cv2.imread(name_lr, cv2.IMREAD_COLOR)\n",
    "        shape_hr = hr_img.shape\n",
    "        shape_lr = lr_img.shape\n",
    "\n",
    "        # convert BGR to YCrCb and take the Y channel\n",
    "        hr_img = cv2.cvtColor(hr_img, cv2.COLOR_BGR2YCrCb)\n",
    "        hr_img = hr_img[:, :, 0]\n",
    "        lr_img = cv2.cvtColor(lr_img, cv2.COLOR_BGR2YCrCb)\n",
    "        lr_img = lr_img[:, :, 0]\n",
    "        \n",
    "        # resize the low-res image to the corresponding high-res one\n",
    "        lr_img = cv2.resize(lr_img, (shape_hr[1], shape_hr[0]), interpolation=cv2.INTER_CUBIC)\n",
    "        \n",
    "        height_num = (shape_hr[0] - (BLOCK_SIZE - BLOCK_STEP) * 2) // BLOCK_STEP\n",
    "        width_num  = (shape_hr[1] - (BLOCK_SIZE - BLOCK_STEP) * 2) // BLOCK_STEP\n",
    "        \n",
    "        # produce, normalize ,and store the patches\n",
    "        for k in range(height_num):\n",
    "            for j in range(width_num):   \n",
    "                h = k * BLOCK_STEP\n",
    "                w = j * BLOCK_STEP\n",
    "\n",
    "                hr_patch = hr_img[h: h + BLOCK_SIZE, w: w + BLOCK_SIZE]\n",
    "                lr_patch = lr_img[h: h + BLOCK_SIZE, w: w + BLOCK_SIZE]\n",
    "                \n",
    "                lr_patch = lr_patch.astype(float) / 255.\n",
    "                hr_patch = hr_patch.astype(float) / 255.\n",
    "\n",
    "                lr = np.zeros((1, Patch_size, Patch_size), dtype=np.double)\n",
    "                hr = np.zeros((1, label_size, label_size), dtype=np.double)\n",
    "\n",
    "                lr[0, :, :] = lr_patch\n",
    "                hr[0, :, :] = hr_patch[conv_side: -conv_side, conv_side: -conv_side]\n",
    "\n",
    "                data.append(lr)\n",
    "                label.append(hr)\n",
    "\n",
    "    data = np.array(data, dtype=float)\n",
    "    label = np.array(label, dtype=float)\n",
    "    \n",
    "    return data, label"
   ]
  },
  {
   "cell_type": "markdown",
   "id": "99920e79",
   "metadata": {
    "id": "99920e79"
   },
   "source": [
    "## store the data/patches and read them"
   ]
  },
  {
   "cell_type": "code",
   "execution_count": 8,
   "id": "fc565b69",
   "metadata": {
    "executionInfo": {
     "elapsed": 384,
     "status": "ok",
     "timestamp": 1642618264512,
     "user": {
      "displayName": "Viktor Stavrinopoulos",
      "photoUrl": "https://lh3.googleusercontent.com/a/default-user=s64",
      "userId": "13023228101679582268"
     },
     "user_tz": -60
    },
    "id": "fc565b69"
   },
   "outputs": [],
   "source": [
    "# This function is used to save image data patches and their label patches to hdf5 file\n",
    "# \"output_filename.h5\" contains data and label\n",
    "def write_hdf5(data, labels, output_filename):\n",
    "\n",
    "    x = data.astype(np.float32)\n",
    "    y = labels.astype(np.float32)\n",
    "\n",
    "    with h5py.File(output_filename, 'w') as h:\n",
    "        h.create_dataset('data', data=x, shape=x.shape)\n",
    "        h.create_dataset('label', data=y, shape=y.shape)\n",
    "        # h.create_dataset()\n",
    "\n",
    "# read the h5 data \n",
    "def read_training_data(file):\n",
    "    with h5py.File(file, 'r') as hf:\n",
    "        data = np.array(hf.get('data'))\n",
    "        label = np.array(hf.get('label'))\n",
    "        return data, label"
   ]
  },
  {
   "cell_type": "markdown",
   "id": "ec23744c",
   "metadata": {
    "id": "ec23744c"
   },
   "source": [
    "# Build Dataset\n",
    "\n",
    "To train the model from scratch, the function \"prepare_crop_data\" from the section 2.2.2 should be used which returns two arrays, data including arrays with the shape 32 x 32, and label including arrays with the shape 20 x 20\n",
    "\n",
    "To tune the model, the function \"prepare_data\" from the section 2.2.1 should be used which returns two arrays, data including arrays with the shape 32 x 32, and label including arrays with the shape 20 x 20. This function produces 30 random patches for each image"
   ]
  },
  {
   "cell_type": "markdown",
   "id": "bcc7fb64",
   "metadata": {
    "id": "bcc7fb64"
   },
   "source": [
    "## Create Patches \n",
    "Using \"prepare_data\" function, we produce 30 random patches for each image of train and validation data (800 images for train and 100 images for validation). Finally, for the training, we have an array with the shape (24000, 1, 32, 32) for data and an array with the shape (24000, 1, 20, 20) for labels, and for the validation an array with the shape (3000, 1, 32, 32) for data and an array with the shape (3000, 1, 20, 20) for labels\n",
    "\n",
    "Uncomment the line for which you want to create patches and then put the corresponding names in the cell related to save patches using \"write_hdf5\" function"
   ]
  },
  {
   "cell_type": "code",
   "execution_count": null,
   "id": "b5ab8f4a",
   "metadata": {
    "id": "b5ab8f4a"
   },
   "outputs": [],
   "source": [
    "'''\n",
    "DO NOT RUN THIS CELL. READ COMMENTS FIRST\n",
    "'''\n",
    "# this is not used to run the notebook because they all were once executed\n",
    "# data patches and all corresponding label patches are stored as \".h5\" file in \n",
    "# a folder called h5\n",
    "\n",
    "# create patches for data and labels for fine tuning (TRAIN_BICUBIC_X2, X3, and X4)\n",
    "data_tune_X2bic, label_tune = prepare_data(train_path_dataX2bic, train_path_label)\n",
    "# data_tune_X3bic, label_tune = prepare_data(train_path_dataX3bic, train_path_label)\n",
    "# data_tune_X4bic, label_tune = prepare_data(train_path_dataX4bic, train_path_label)\n",
    "\n",
    "# create patches for data and labels for fine tuning (TRAIN_UNKNOWN_X2, X3, and X4)\n",
    "# data_tune_X2un, label_tune = prepare_data(train_path_dataX2un, train_path_label)\n",
    "# data_tune_X3un, label_tune = prepare_data(train_path_dataX3un, train_path_label)\n",
    "# data_tune_X4un, label_tune = prepare_data(train_path_dataX4un, train_path_label)\n",
    "\n",
    "# create patches for data and labels for validation (VALID_BICUBIC_X2, X3, X4)\n",
    "data_val_X2bic, label_val = prepare_data(valid_path_dataX2bic, valid_path_label) \n",
    "# data_val_X3bic, label_val = prepare_data(valid_path_dataX3bic, valid_path_label) \n",
    "# data_val_X4bic, label_val = prepare_data(valid_path_dataX4bic, valid_path_label)\n",
    "\n",
    "# create patches for data and labels for validation (VALID_UNKNOWN_X2, X3, X4)\n",
    "# data_val_X2un, label_val = prepare_data(valid_path_dataX2un, valid_path_label) \n",
    "# data_val_X3un, label_val = prepare_data(valid_path_dataX3un, valid_path_label) \n",
    "# data_val_X4un, label_val = prepare_data(valid_path_dataX4un, valid_path_label)"
   ]
  },
  {
   "cell_type": "code",
   "execution_count": null,
   "id": "3e85809c",
   "metadata": {
    "id": "3e85809c"
   },
   "outputs": [],
   "source": [
    "'''\n",
    "DO NOT RUN THIS CELL. READ COMMENTS FIRST\n",
    "'''\n",
    "# this cell is not used to run the notebook\n",
    "# save the data and the corresponding labels as a \".h5\" file using the function \"write_hdf5\" \n",
    "# Note that you should make a folder named \"h5\" in the current working directory\n",
    "write_hdf5(data_tune_X2bic, label_tune, r'h5/X2_BICUBIC_TRAIN.h5')\n",
    "write_hdf5(data_val_X2bic, label_val, r'h5/X2_BICUBIC_VALID.h5')"
   ]
  },
  {
   "cell_type": "markdown",
   "id": "eab7bb54",
   "metadata": {
    "id": "eab7bb54"
   },
   "source": [
    "## Create Datasets"
   ]
  },
  {
   "cell_type": "code",
   "execution_count": 9,
   "id": "968d30a3",
   "metadata": {
    "executionInfo": {
     "elapsed": 392,
     "status": "ok",
     "timestamp": 1642618283606,
     "user": {
      "displayName": "Viktor Stavrinopoulos",
      "photoUrl": "https://lh3.googleusercontent.com/a/default-user=s64",
      "userId": "13023228101679582268"
     },
     "user_tz": -60
    },
    "id": "968d30a3"
   },
   "outputs": [],
   "source": [
    "# create a dataset class\n",
    "class Dataset_SRCNN(Dataset):\n",
    "    def __init__(self, data, target, transform=None):\n",
    "        self.data = data\n",
    "        self.target = target\n",
    "        self.transform = transform\n",
    "        \n",
    "    def __getitem__(self, index):\n",
    "        x = self.data[index]\n",
    "        y = self.target[index]\n",
    "        if self.transform: \n",
    "            x = self.transform(x)    \n",
    "            y = self.transform(y)\n",
    "        return x, y\n",
    "    \n",
    "    def __len__(self):\n",
    "        return len(self.data)"
   ]
  },
  {
   "cell_type": "code",
   "execution_count": null,
   "id": "4f79b9f7",
   "metadata": {
    "colab": {
     "base_uri": "https://localhost:8080/",
     "height": 54
    },
    "id": "4f79b9f7",
    "outputId": "8f83e0a1-85ab-4e4e-e816-c2e874654fda"
   },
   "outputs": [
    {
     "data": {
      "application/vnd.google.colaboratory.intrinsic+json": {
       "type": "string"
      },
      "text/plain": [
       "'dataset_eval = Dataset_SRCNN(data_eval_X2bic, label_eval)\\nloader_eval = DataLoader(\\n    dataset_eval,\\n    batch_size=256,\\n    num_workers=2,\\n    shuffle=True,\\n    pin_memory=torch.cuda.is_available()\\n)'"
      ]
     },
     "execution_count": 82,
     "metadata": {},
     "output_type": "execute_result"
    }
   ],
   "source": [
    "'''\n",
    "DO NOT RUN THIS CELL. READ COMMENTS FIRST\n",
    "'''\n",
    "# this cell is not used to run the notebook unless you want to run a new fine tuning\n",
    "# create dataset and dataloader objects for training\n",
    "# read the \"h5\" files for each data you saved in the section 3.1 using read_training_data function\n",
    "# then create Dataset object and the corresponding dataloader\n",
    "d_train, l_train = read_training_data('/content/drive/MyDrive/DIV2K/h5/X2_BICUBIC_TRAIN.h5')\n",
    "d_train, l_train = torch.tensor(d_train), torch.tensor(l_train)\n",
    "dataset_tune = Dataset_SRCNN(d_train, l_train)\n",
    "loader_tune = DataLoader(\n",
    "    dataset_tune,\n",
    "    batch_size=128,\n",
    "    num_workers=2,\n",
    "    shuffle=True,\n",
    "    pin_memory=torch.cuda.is_available()\n",
    ")\n",
    "\n",
    "# create dataset and dataloader objects for validation\n",
    "d_val, l_val = read_training_data('/content/drive/MyDrive/DIV2K/h5/X2_BICUBIC_VALID.h5')\n",
    "d_val, l_val = torch.tensor(d_val), torch.tensor(l_val)\n",
    "dataset_val = Dataset_SRCNN(d_val, l_val)\n",
    "loader_val = DataLoader(\n",
    "    dataset_val,\n",
    "    batch_size=256,\n",
    "    num_workers=2,\n",
    "    shuffle=True,\n",
    "    pin_memory=torch.cuda.is_available()\n",
    ")"
   ]
  },
  {
   "cell_type": "markdown",
   "id": "9ad0dc92",
   "metadata": {
    "id": "9ad0dc92"
   },
   "source": [
    "# Build the network (SRCNN)\n",
    "\n",
    "It is based on the network presented in the paper [Learning a Deep Convolutional Network for Image Super-Resolution](https://link.springer.com/chapter/10.1007/978-3-319-10593-2_13)"
   ]
  },
  {
   "cell_type": "code",
   "execution_count": 10,
   "id": "2869a5da",
   "metadata": {
    "executionInfo": {
     "elapsed": 379,
     "status": "ok",
     "timestamp": 1642618292418,
     "user": {
      "displayName": "Viktor Stavrinopoulos",
      "photoUrl": "https://lh3.googleusercontent.com/a/default-user=s64",
      "userId": "13023228101679582268"
     },
     "user_tz": -60
    },
    "id": "2869a5da"
   },
   "outputs": [],
   "source": [
    "# create a network class \n",
    "class SRCNN(nn.Module):\n",
    "    \n",
    "    def __init__(self, f1=9, f2=3, f3=5, n1=128, n2=64, c=1, mode=None, input_size=None):\n",
    "        super().__init__()\n",
    "        assert mode in ['train', 'tune', 'test'], 'mode parameter must be \"train\", \"tune\", or \"test\"'\n",
    "        if mode in ['train', 'tune'] and input_size != 32:\n",
    "            raise Exception(\"the input size should be 32 while in train/tune mode\")\n",
    "        self.feature = nn.Conv2d(c, n1, f1)  # (1, 32, 32) ==> (128, 24, 24)        \n",
    "        self.remap = nn.Conv2d(n1, n2, f2, padding='same')   # (128, 24, 24) ==> (64, 24, 24)\n",
    "        self.reconstruct = nn.Conv2d(n2, c, f3)  # (64, 24, 24) ==> (1, 20, 20)\n",
    "\n",
    "    # Input: N, C, H, W\n",
    "    # Output: N, C, H-12, W-12\n",
    "    def forward(self, x):\n",
    "        x = self.feature(x)\n",
    "        x = torch.nn.functional.relu(x, inplace=True)\n",
    "        x = self.remap(x)\n",
    "        x = torch.nn.functional.relu(x, inplace=True)\n",
    "        x = self.reconstruct(x)\n",
    "        return x"
   ]
  },
  {
   "cell_type": "markdown",
   "id": "d77192c4",
   "metadata": {
    "id": "d77192c4"
   },
   "source": [
    "# Train/Tune and evaluate the model\n",
    "In this section, we tune the pretrained model parameters called \"SRCNN_keras_weight.h5\"\n",
    "\n",
    "For this project, it was not practical to train the model from scratch because of two reasons: 1) we have 900 images (800 train images and 100 validation images) for 2 degradation operators and 3 downscale factors, so there are large number of high-resolution images which leads to have a huge amount of patches, 2) it takes a few days to train the network  "
   ]
  },
  {
   "cell_type": "code",
   "execution_count": 11,
   "id": "7f0c59f8",
   "metadata": {
    "colab": {
     "base_uri": "https://localhost:8080/"
    },
    "executionInfo": {
     "elapsed": 371,
     "status": "ok",
     "timestamp": 1642618302552,
     "user": {
      "displayName": "Viktor Stavrinopoulos",
      "photoUrl": "https://lh3.googleusercontent.com/a/default-user=s64",
      "userId": "13023228101679582268"
     },
     "user_tz": -60
    },
    "id": "7f0c59f8",
    "outputId": "612d179d-6684-43b3-ceed-0f240b0c2e73"
   },
   "outputs": [
    {
     "name": "stdout",
     "output_type": "stream",
     "text": [
      "There are 1 GPU(s) available.\n",
      "Device name: Tesla T4\n"
     ]
    }
   ],
   "source": [
    "# set the device\n",
    "if torch.cuda.is_available():       \n",
    "    device = torch.device(\"cuda\")\n",
    "    print(f'There are {torch.cuda.device_count()} GPU(s) available.')\n",
    "    print('Device name:', torch.cuda.get_device_name(0))\n",
    "else:\n",
    "    print('No GPU available, using the CPU instead.')\n",
    "    device = torch.device(\"cpu\")"
   ]
  },
  {
   "cell_type": "code",
   "execution_count": null,
   "id": "62bd43b4",
   "metadata": {
    "id": "62bd43b4"
   },
   "outputs": [],
   "source": [
    "'''\n",
    "DO NOT RUN THIS CELL. READ COMMENTS FIRST\n",
    "'''\n",
    "# this cell is not used to run the notebook unless you want to run a new fine tuning\n",
    "# set the required arguments for \"train_tune\" function\n",
    "dataloader_train = loader_tune\n",
    "dataloader_valid = loader_val\n",
    "model = SRCNN(f1=9, f2=3, f3=5, n1=128, n2=64, c=1, mode='tune', input_size=32)\n",
    "optimizer = optim.Adam(model.parameters(), lr=0.0003)\n",
    "criterion = nn.MSELoss()\n",
    "nb_epochs_tune = 20"
   ]
  },
  {
   "cell_type": "code",
   "execution_count": null,
   "id": "71180f54",
   "metadata": {
    "colab": {
     "base_uri": "https://localhost:8080/"
    },
    "id": "71180f54",
    "outputId": "e00ebf5f-609d-4e71-9293-ced28f0d940d"
   },
   "outputs": [
    {
     "name": "stdout",
     "output_type": "stream",
     "text": [
      "----------------------------------------------------------------\n",
      "        Layer (type)               Output Shape         Param #\n",
      "================================================================\n",
      "            Conv2d-1          [-1, 128, 24, 24]          10,496\n",
      "            Conv2d-2           [-1, 64, 24, 24]          73,792\n",
      "            Conv2d-3            [-1, 1, 20, 20]           1,601\n",
      "================================================================\n",
      "Total params: 85,889\n",
      "Trainable params: 85,889\n",
      "Non-trainable params: 0\n",
      "----------------------------------------------------------------\n",
      "Input size (MB): 0.00\n",
      "Forward/backward pass size (MB): 0.85\n",
      "Params size (MB): 0.33\n",
      "Estimated Total Size (MB): 1.18\n",
      "----------------------------------------------------------------\n"
     ]
    }
   ],
   "source": [
    "'''\n",
    "DO NOT RUN THIS CELL. READ COMMENTS FIRST\n",
    "'''\n",
    "# this cell is not used to run the notebook unless you want to run a new fine tuning\n",
    "# print model\n",
    "summary(model.to(device),(1,32,32))"
   ]
  },
  {
   "cell_type": "code",
   "execution_count": null,
   "id": "f7cd84d7",
   "metadata": {
    "id": "f7cd84d7"
   },
   "outputs": [],
   "source": [
    "'''\n",
    "DO NOT RUN THIS CELL. READ COMMENTS FIRST\n",
    "'''\n",
    "# this cell is not used to run the notebook unless you want to run a new fine tuning\n",
    "# read the pretrained tf weights and layer names\n",
    "def read_tf_weights(path):\n",
    "    weights = {}\n",
    "    keys = []\n",
    "    with h5py.File(path, 'r') as f: \n",
    "        f.visit(keys.append) \n",
    "        for key in keys:\n",
    "            if ':' in key:\n",
    "                print(f[key].name)\n",
    "                weights[f[key].name] = f[key][()]\n",
    "    return weights\n",
    "\n",
    "tf_original_weights = read_tf_weights('/content/drive/MyDrive/DIV2K/SRCNN_keras_weight.h5')"
   ]
  },
  {
   "cell_type": "code",
   "execution_count": null,
   "id": "27exF1WbPcWn",
   "metadata": {
    "colab": {
     "base_uri": "https://localhost:8080/"
    },
    "id": "27exF1WbPcWn",
    "outputId": "05ed3bfa-45ad-4245-88cc-d68e057d3eeb"
   },
   "outputs": [
    {
     "data": {
      "text/plain": [
       "<All keys matched successfully>"
      ]
     },
     "execution_count": 91,
     "metadata": {},
     "output_type": "execute_result"
    }
   ],
   "source": [
    "'''\n",
    "DO NOT RUN THIS CELL. READ COMMENTS FIRST\n",
    "'''\n",
    "# this cell is not used to run the notebook unless you want to run a new fine tuning\n",
    "# load improved model parameters\n",
    "torch_weights = torch.load('/content/drive/MyDrive/DIV2K/improved models/params_after_training_X2_BICUBIC.h5')\n",
    "model.load_state_dict(torch_weights)"
   ]
  },
  {
   "cell_type": "code",
   "execution_count": null,
   "id": "6a59147c",
   "metadata": {
    "colab": {
     "base_uri": "https://localhost:8080/"
    },
    "id": "6a59147c",
    "outputId": "f4780277-ab5c-4fc8-85f9-340107992dd8"
   },
   "outputs": [
    {
     "name": "stdout",
     "output_type": "stream",
     "text": [
      "Name of the torch layers: ['feature', 'remap', 'reconstruct']\n"
     ]
    }
   ],
   "source": [
    "'''\n",
    "DO NOT RUN THIS. READ COMMENTS FIRST\n",
    "'''\n",
    "# this cell is not used to run the notebook unless you want to run a new fine tuning\n",
    "# determine the torch layer names\n",
    "name_layers = model.named_modules()\n",
    "lst_nameLayers = list(name_layers)\n",
    "print('Name of the torch layers:', [lst_nameLayers[i][0] for i in range(1,4)])"
   ]
  },
  {
   "cell_type": "code",
   "execution_count": null,
   "id": "cf088799",
   "metadata": {
    "id": "cf088799"
   },
   "outputs": [],
   "source": [
    "'''\n",
    "DO NOT RUN THIS CELL. READ COMMENTS FIRST\n",
    "'''\n",
    "# this cell is not used to run the notebook unless you want to run a new fine tuning\n",
    "# the shape of weights in keras and torch are transposed, so we should transpose tf weights to load in pytorch model\n",
    "model.feature.weight.data = torch.from_numpy(np.transpose(tf_original_weights['/convolution2d_1/convolution2d_1_W:0']))\n",
    "model.feature.bias.data = torch.from_numpy(np.transpose(tf_original_weights['/convolution2d_1/convolution2d_1_b:0']))\n",
    "model.remap.weight.data = torch.from_numpy(np.transpose(tf_original_weights['/convolution2d_2/convolution2d_2_W:0']))\n",
    "model.remap.bias.data = torch.from_numpy(np.transpose(tf_original_weights['/convolution2d_2/convolution2d_2_b:0']))\n",
    "model.reconstruct.weight.data = torch.from_numpy(np.transpose(tf_original_weights['/convolution2d_3/convolution2d_3_W:0']))\n",
    "model.reconstruct.bias.data = torch.from_numpy(np.transpose(tf_original_weights['/convolution2d_3/convolution2d_3_b:0']))"
   ]
  },
  {
   "cell_type": "code",
   "execution_count": null,
   "id": "KWEHW9rosOkc",
   "metadata": {
    "colab": {
     "base_uri": "https://localhost:8080/"
    },
    "id": "KWEHW9rosOkc",
    "outputId": "13967b49-990f-4008-c73c-c06ca75f1daa"
   },
   "outputs": [
    {
     "name": "stdout",
     "output_type": "stream",
     "text": [
      "Start training...\n",
      "\n",
      " Epoch  | Avg. Train Loss | Avg. Valid Loss |  Elapsed  \n",
      "----------------------------------------------------------------------\n",
      "   1    |   0.001298   |   0.001085   |   4.41   \n",
      "   2    |   0.001097   |   0.001017   |   4.31   \n",
      "   3    |   0.001061   |   0.001004   |   4.34   \n",
      "   4    |   0.001044   |   0.000980   |   4.35   \n",
      "   5    |   0.001031   |   0.000970   |   4.38   \n",
      "   6    |   0.001021   |   0.000964   |   4.40   \n",
      "   7    |   0.001015   |   0.000957   |   4.43   \n",
      "   8    |   0.001005   |   0.000955   |   4.43   \n",
      "   9    |   0.001003   |   0.000947   |   4.45   \n",
      "  10    |   0.000995   |   0.000941   |   4.46   \n",
      "  11    |   0.000993   |   0.000946   |   4.49   \n",
      "  12    |   0.000988   |   0.000942   |   4.48   \n",
      "  13    |   0.000984   |   0.000955   |   4.47   \n",
      "  14    |   0.000981   |   0.000931   |   4.44   \n",
      "  15    |   0.000981   |   0.000929   |   4.43   \n",
      "  16    |   0.000975   |   0.000928   |   4.40   \n",
      "  17    |   0.000974   |   0.000923   |   4.38   \n",
      "  18    |   0.000972   |   0.000925   |   4.39   \n",
      "  19    |   0.000967   |   0.000934   |   4.39   \n",
      "  20    |   0.000966   |   0.000922   |   4.38   \n",
      "\n",
      "Training/Tuning completes\n"
     ]
    }
   ],
   "source": [
    "'''\n",
    "DO NOT RUN THIS CELL. READ COMMENTS FIRST\n",
    "'''\n",
    "# this cell is not used to run the notebook unless you want to run a new fine tuning\n",
    "# training/tuning phase\n",
    "# select a proper name for the second argument of the command in the line 82 \n",
    "# This name should be related with the current dataset used for training/tuning\n",
    "def train_tune(dataloader_train, dataloader_valid, model, optimizer, criterion, nb_epochs):\n",
    "    \n",
    "    # move the model to device (GPU or CPU)\n",
    "    model.to(device)\n",
    "    \n",
    "    # store loss of each epoch for train and validation\n",
    "    loss_train = []\n",
    "    loss_valid = []\n",
    "    \n",
    "    # print the header of the result table\n",
    "    print('Start training...\\n')\n",
    "    print(f\"{'Epoch':^7} | {'Avg. Train Loss':^12} | {'Avg. Valid Loss':^12} | {'Elapsed':^9} \")\n",
    "    print(\"-\"*70)\n",
    "    \n",
    "    for i_epoch in range(nb_epochs):\n",
    "        \n",
    "        # measure the elapsed time of each epoch\n",
    "        t0_epoch = time.time()\n",
    "        \n",
    "        # reset tracking variables at the beginning of each epoch\n",
    "        total_loss = 0\n",
    "        \n",
    "        # put the model into the training mode\n",
    "        model.train()\n",
    "        \n",
    "        # batch for loop (step = index of each batch)\n",
    "        for step, batch in enumerate(dataloader_train):\n",
    "            \n",
    "            # load batch to device (GPU or CPU)\n",
    "            X_batch, y_batch = tuple(t.to(device) for t in batch)\n",
    "\n",
    "            # zero out any previously calculated gradients\n",
    "            model.zero_grad()\n",
    "            \n",
    "            # perform a forward pass. This will return the reconstructed patch\n",
    "            rec_batch = model(X_batch)\n",
    "            \n",
    "            # compute loss and accumulate the loss values\n",
    "            loss = criterion(rec_batch, y_batch)\n",
    "            total_loss += loss.item()\n",
    "                \n",
    "            # perform a backward pass to calculate gradients\n",
    "            loss.backward()\n",
    "\n",
    "            # update parameters and the learning rate\n",
    "            optimizer.step()\n",
    "            \n",
    "        # Calculate the average loss of each epoch for train\n",
    "        avg_train_loss = total_loss / (step + 1)\n",
    "        loss_train.append(avg_train_loss)\n",
    "        \n",
    "        # put the model into the valiadtion mode\n",
    "        model.eval()\n",
    "        total_loss = 0\n",
    "        with torch.no_grad(): \n",
    "            for step, batch in enumerate(dataloader_valid):\n",
    "                \n",
    "                # load batch to device (GPU or CPU)\n",
    "                X_batch, y_batch = tuple(t.to(device) for t in batch)\n",
    "                \n",
    "                rec_batch = model(X_batch)\n",
    "                \n",
    "                # compute and store loss\n",
    "                loss = criterion(rec_batch, y_batch)\n",
    "                total_loss += loss.item()\n",
    "                \n",
    "                # Calculate the average loss of each epoch for validation\n",
    "            avg_valid_loss = total_loss / (step + 1)\n",
    "            loss_valid.append(avg_valid_loss)\n",
    "                \n",
    "        # Calculate time elapsed for the current epoch\n",
    "        time_elapsed = time.time() - t0_epoch\n",
    "        \n",
    "        # Print the current results\n",
    "        print(f\"{i_epoch + 1:^7} | {avg_train_loss:^12.6f} | {avg_valid_loss:^12.6f} | {time_elapsed:^9.2f}\")\n",
    "                 \n",
    "    # save the parameters of the current trained/tuned model\n",
    "    torch.save(model.state_dict(), 'params_after_training_X2_BICUBIC.h5')\n",
    "    \n",
    "    return loss_train, loss_valid\n",
    "\n",
    "avgLosses_train, avgLosses_valid = train_tune(dataloader_train, dataloader_valid, model, optimizer, criterion, nb_epochs_tune)\n",
    "print('\\nTraining/Tuning completes')"
   ]
  },
  {
   "cell_type": "code",
   "execution_count": null,
   "id": "523e1e4f",
   "metadata": {
    "colab": {
     "base_uri": "https://localhost:8080/",
     "height": 295
    },
    "id": "523e1e4f",
    "outputId": "2faf97e6-8372-48b2-cc6a-620040b8d095"
   },
   "outputs": [
    {
     "data": {
      "image/png": "[encoded data removed]",
      "text/plain": [
       "<Figure size 432x288 with 1 Axes>"
      ]
     },
     "metadata": {
      "needs_background": "light"
     },
     "output_type": "display_data"
    }
   ],
   "source": [
    "'''\n",
    "DO NOT RUN THIS CELL. READ COMMENTS FIRST\n",
    "'''\n",
    "# this cell is not used to run the notebook unless you want to run a new fine tuning\n",
    "# compare the training and validation losses\n",
    "def plot_losses(train_loss, val_loss):\n",
    "\n",
    "    epochs = range(1, len(train_loss) + 1)\n",
    "\n",
    "    plt.plot(epochs, train_loss, '--', label='Training loss')\n",
    "    plt.plot(epochs, val_loss, 'r', label='Validation loss')\n",
    "    plt.title('Training and validation loss')\n",
    "    plt.xlabel('Epochs')\n",
    "    plt.ylabel('Loss')\n",
    "    plt.legend()\n",
    "    plt.show()\n",
    "\n",
    "plot_losses(avgLosses_train, avgLosses_valid)"
   ]
  },
  {
   "cell_type": "markdown",
   "id": "331900db",
   "metadata": {
    "id": "331900db"
   },
   "source": [
    "# Test the model"
   ]
  },
  {
   "cell_type": "code",
   "execution_count": 12,
   "id": "e72498ed",
   "metadata": {
    "executionInfo": {
     "elapsed": 366,
     "status": "ok",
     "timestamp": 1642618411778,
     "user": {
      "displayName": "Viktor Stavrinopoulos",
      "photoUrl": "https://lh3.googleusercontent.com/a/default-user=s64",
      "userId": "13023228101679582268"
     },
     "user_tz": -60
    },
    "id": "e72498ed"
   },
   "outputs": [],
   "source": [
    "# define a function for peak signal-to-noise ratio (PSNR)\n",
    "def psnr(target, ref):    \n",
    "    # assume RGB image\n",
    "    target_data = target.astype(float)\n",
    "    ref_data = ref.astype(float)\n",
    "\n",
    "    diff = ref_data - target_data\n",
    "    diff = diff.flatten()\n",
    "\n",
    "    rmse = math.sqrt(np.mean(diff ** 2.))\n",
    "\n",
    "    return 20 * math.log10(255. / rmse)\n",
    "\n",
    "# define a function for mean squared error (MSE)\n",
    "def mse(target, ref):\n",
    "    err = np.sum((target.astype('float') - ref.astype('float')) ** 2)\n",
    "    # divide err by the shape of the image to get the error per pixel\n",
    "    err /= float(target.shape[0] * target.shape[1])\n",
    "    \n",
    "    return err\n",
    "\n",
    "# define a function that combines all three image quality metrics\n",
    "def compare_images(target, ref):\n",
    "    scores = []\n",
    "    scores.append(psnr(target, ref))\n",
    "    scores.append(mse(target, ref))\n",
    "    # multichannel is True: treat the last dimension of the array as channels\n",
    "    scores.append(ssim(target, ref, multichannel=True))\n",
    "    \n",
    "    return scores"
   ]
  },
  {
   "cell_type": "markdown",
   "id": "0d0a842e",
   "metadata": {
    "id": "0d0a842e"
   },
   "source": [
    "## Reconstruct degraded image(s) outside the training/validation images"
   ]
  },
  {
   "cell_type": "code",
   "execution_count": 13,
   "id": "8bae8f87",
   "metadata": {
    "executionInfo": {
     "elapsed": 377,
     "status": "ok",
     "timestamp": 1642618416717,
     "user": {
      "displayName": "Viktor Stavrinopoulos",
      "photoUrl": "https://lh3.googleusercontent.com/a/default-user=s64",
      "userId": "13023228101679582268"
     },
     "user_tz": -60
    },
    "id": "8bae8f87"
   },
   "outputs": [],
   "source": [
    "# define a function to make sure that the image is divisible by arbitrary scale\n",
    "def modcrop(img, scale):\n",
    "    tmpsz = img.shape\n",
    "    sz = tmpsz[0:2]\n",
    "    sz = sz - np.mod(sz, scale)\n",
    "    img = img[0:sz[0], 1:sz[1]]\n",
    "    return img\n",
    "\n",
    "# define a function to remove the first and last pixels after convolutions\n",
    "def shave(image, border):\n",
    "    img = image[border: -border, border: -border]\n",
    "    return img"
   ]
  },
  {
   "cell_type": "code",
   "execution_count": 14,
   "id": "ee88e7c6",
   "metadata": {
    "executionInfo": {
     "elapsed": 4,
     "status": "ok",
     "timestamp": 1642618420811,
     "user": {
      "displayName": "Viktor Stavrinopoulos",
      "photoUrl": "https://lh3.googleusercontent.com/a/default-user=s64",
      "userId": "13023228101679582268"
     },
     "user_tz": -60
    },
    "id": "ee88e7c6"
   },
   "outputs": [],
   "source": [
    "# this function takes path of HR images for test, the interpolation method, and the scale used for degradation\n",
    "# the function produced the degraded images and returns the path of the folder containing them which is like:\n",
    "# test/LR Images\n",
    "# the high-res test images should be saved in a directory like: \"test/HR Images/\"\n",
    "\n",
    "def degradation(hr_path, interpolation_method, scale):\n",
    "    \n",
    "    # get the HR image names\n",
    "    names = os.listdir(hr_path)\n",
    "\n",
    "    for img in names:\n",
    "        \n",
    "        # read the high-res image and convert BGR to YCrCb and take the Y channel\n",
    "        # use modcrop function to be sure that the image is divisible by the scale\n",
    "        hr_img = cv2.imread('/content/drive/MyDrive/DIV2K/test/HR Images/' + img)\n",
    "        hr_img = modcrop(hr_img, scale)\n",
    "        hr_img_conv = cv2.cvtColor(hr_img, cv2.COLOR_BGR2YCrCb)\n",
    "        hr_img_Y = hr_img_conv[:, :, 0]\n",
    "        \n",
    "        h, w = hr_img_Y.shape\n",
    "        \n",
    "        # resize the high-res image to create a low-res one\n",
    "        lr_img = cv2.resize(hr_img_Y, (w//scale, h//scale), interpolation=interpolation_method)\n",
    "        lr_img = cv2.resize(lr_img, (w, h), interpolation=interpolation_method)\n",
    "        \n",
    "        # save the degraded image\n",
    "        hr_img_conv[:, :, 0] = lr_img\n",
    "        low_img = cv2.cvtColor(hr_img_conv, cv2.COLOR_YCrCb2BGR)\n",
    "        \n",
    "        if not os.path.isdir('/content/drive/MyDrive/DIV2K/test/LR Images'):\n",
    "            add = '/content/drive/MyDrive/DIV2K/test/LR Images'\n",
    "            os.makedirs(add)\n",
    "        else:\n",
    "            add = '/content/drive/MyDrive/DIV2K/test/LR Images'\n",
    "        cv2.imwrite(add +'/'+ img, low_img)\n",
    "        \n",
    "    return add\n",
    "    "
   ]
  },
  {
   "cell_type": "code",
   "execution_count": 15,
   "id": "00c7e4a2",
   "metadata": {
    "executionInfo": {
     "elapsed": 366,
     "status": "ok",
     "timestamp": 1642618425299,
     "user": {
      "displayName": "Viktor Stavrinopoulos",
      "photoUrl": "https://lh3.googleusercontent.com/a/default-user=s64",
      "userId": "13023228101679582268"
     },
     "user_tz": -60
    },
    "id": "00c7e4a2"
   },
   "outputs": [],
   "source": [
    "# set the required arguments for test function\n",
    "model = SRCNN(f1=9, f2=3, f3=5, n1=128, n2=64, c=1, mode='test')\n",
    "path_images_HR = '/content/drive/MyDrive/DIV2K/test/HR Images'\n",
    "path_params = '/content/drive/MyDrive/DIV2K/improved models/params_after_training_X2_BICUBIC.h5' # this should be the last weight saved on line 82 of the cell containing train_tune function"
   ]
  },
  {
   "cell_type": "code",
   "execution_count": 16,
   "id": "5952e531",
   "metadata": {
    "executionInfo": {
     "elapsed": 5,
     "status": "ok",
     "timestamp": 1642618428066,
     "user": {
      "displayName": "Viktor Stavrinopoulos",
      "photoUrl": "https://lh3.googleusercontent.com/a/default-user=s64",
      "userId": "13023228101679582268"
     },
     "user_tz": -60
    },
    "id": "5952e531"
   },
   "outputs": [],
   "source": [
    "# test the trained/tuned model\n",
    "# the original images to be used for test should be stored in a directory like: \"test/HR Images/\"\n",
    "# so, please make the directory, \"test/HR Images/\"\n",
    "# and the corresponding low-res ones will be saved in \"test/LR Images/\" using the function degradation\n",
    "# the reconstructed images using the network will be saved in \"test/Reconstructed Images/\"\n",
    "# Note that you don't need to make \"test/LR Images/\" and \"test/Reconstructed Images/\" directories, \n",
    "# If they are not available, the program makes them\n",
    "\n",
    "def test(model, imageFolder_path, params_path, interpolation_method, scale):\n",
    "    \n",
    "    # restore the trained/tuned model parameters\n",
    "    model.load_state_dict(torch.load(params_path))\n",
    "    \n",
    "    # move the model to device (GPU or CPU)\n",
    "    model.to(device)\n",
    "    \n",
    "    # put the model into the evaluation mode\n",
    "    model.eval()\n",
    "    \n",
    "    # get the degraded and reference images\n",
    "    hr_imageNames = os.listdir(imageFolder_path)\n",
    "    lr_imageNames = os.listdir(degradation(imageFolder_path,interpolation_method , scale))\n",
    "    \n",
    "    scores_deg_ref = []\n",
    "    scores_recon_ref = []\n",
    "    for i in range(len(hr_imageNames)):\n",
    "        \n",
    "        # read the high and low res images\n",
    "        degraded = cv2.imread('/content/drive/MyDrive/DIV2K/test/LR Images/' + lr_imageNames[i])\n",
    "        ref = cv2.imread('/content/drive/MyDrive/DIV2K/test/HR Images/' + hr_imageNames[i])\n",
    "    \n",
    "        # crop the reference image using modcrop function because the low-res image is cropped as well\n",
    "        # when suing degradation function\n",
    "        ref = modcrop(ref, scale)\n",
    "    \n",
    "        # convert the image to YCrCb - (srcnn trained on Y channel)\n",
    "        temp = cv2.cvtColor(degraded, cv2.COLOR_BGR2YCrCb)\n",
    "    \n",
    "        # create image slice and normalize  \n",
    "        Y = np.zeros((1, temp.shape[0], temp.shape[1], 1), dtype=float)\n",
    "        Y[0, :, :, 0] = temp[:, :, 0].astype(float) / 255\n",
    "    \n",
    "        \n",
    "        with torch.no_grad():\n",
    "            # perform super-resolution with srcnn\n",
    "            Y_tensor=torch.tensor(Y,dtype=torch.float32,device=device)\n",
    "            Y_tensor = Y_tensor.resize(1,1,temp.shape[0],temp.shape[1])\n",
    "            pre = model(Y_tensor)\n",
    "    \n",
    "        # post-process output\n",
    "        pre *= 255\n",
    "        torch.clamp(pre, 0, 255)\n",
    "        pre = pre.type(torch.uint8)\n",
    "        pre_arr = pre.cpu().numpy()\n",
    "    \n",
    "        # copy Y channel back to image and convert to BGR\n",
    "        temp = shave(temp, 6)\n",
    "        temp[:, :, 0] = pre_arr[0, 0, :, :]\n",
    "        output = cv2.cvtColor(temp, cv2.COLOR_YCrCb2BGR)\n",
    "        \n",
    "        # save the reconstructed image to \"test/Reconstructed Images\"\n",
    "        if not os.path.isdir('/content/drive/MyDrive/DIV2K/test/Reconstructed Images'):\n",
    "            add = '/content/drive/MyDrive/DIV2K/test/Reconstructed Images'\n",
    "            os.makedirs(add)\n",
    "        else:\n",
    "            add = '/content/drive/MyDrive/DIV2K/test/Reconstructed Images'\n",
    "\n",
    "        cv2.imwrite(add + '/' + hr_imageNames[i], output)\n",
    "    \n",
    "        # remove border from reference and degraged image\n",
    "        ref = shave(ref.astype(np.uint8), 6)\n",
    "        degraded = shave(degraded.astype(np.uint8), 6)\n",
    "    \n",
    "        # image quality calculations\n",
    "        # scores of degraded and ref images is a list of lists: scores_deg_ref = [[psnr, mse, ssim(degraded, ref)], ...]\n",
    "        # scores of reconstructed and ref images is a list of lists: scores_deg_ref = [[psnr, mse, ssim(reconstruct, ref)], ...]\n",
    "        scores_deg_ref.append(compare_images(degraded, ref))\n",
    "        scores_recon_ref.append(compare_images(output, ref))\n",
    "    \n",
    "    # return images and scores\n",
    "    return scores_deg_ref, scores_recon_ref"
   ]
  },
  {
   "cell_type": "markdown",
   "id": "89f59585",
   "metadata": {
    "id": "89f59585"
   },
   "source": [
    "## Compare the original, degraded, and reconstructed images"
   ]
  },
  {
   "cell_type": "code",
   "execution_count": 1,
   "id": "fe9d7885",
   "metadata": {
    "colab": {
     "base_uri": "https://localhost:8080/",
     "height": 380
    },
    "executionInfo": {
     "elapsed": 1116,
     "status": "error",
     "timestamp": 1642618680312,
     "user": {
      "displayName": "Viktor Stavrinopoulos",
      "photoUrl": "https://lh3.googleusercontent.com/a/default-user=s64",
      "userId": "13023228101679582268"
     },
     "user_tz": -60
    },
    "id": "fe9d7885",
    "outputId": "485f036a-12be-4931-952b-83d2487300a6"
   },
   "outputs": [],
   "source": [
    "# for the high-res images in the \"test/HR Images\", test the super resolution model\n",
    "# the comparisons are saved in the directory \"test/results\", if not available, the program creates that path\n",
    "    \n",
    "# perform super-resolution\n",
    "scores_deg_ref, scores_recon_ref = test(model, path_images_HR, path_params, cv2.INTER_LINEAR, 2)\n",
    "\n",
    "# get the original, degraded, and reconstructed image paths\n",
    "ref = os.listdir('/content/drive/MyDrive/DIV2K/test/HR Images')\n",
    "deg = os.listdir('/content/drive/MyDrive/DIV2K/test/LR Images')\n",
    "rec = os.listdir('/content/drive/MyDrive/DIV2K/test/Reconstructed Images')\n",
    "\n",
    "# display images as subplots\n",
    "for i in range(len(ref)):\n",
    "    fig, axs = plt.subplots(1, 3, figsize=(20, 8))\n",
    "    im_ref = cv2.imread('/content/drive/MyDrive/DIV2K/test/HR Images/' + ref[i])\n",
    "    axs[0].imshow(cv2.cvtColor(im_ref, cv2.COLOR_BGR2RGB))\n",
    "    axs[0].set_title('Original')\n",
    "    im_deg = cv2.imread('/content/drive/MyDrive/DIV2K/test/LR Images/' + deg[i])\n",
    "    axs[1].imshow(cv2.cvtColor(im_deg, cv2.COLOR_BGR2RGB))\n",
    "    axs[1].set_title('Degraded')\n",
    "    axs[1].set(xlabel = 'PSNR: {}\\nMSE: {} \\nSSIM: {}'.format(scores_deg_ref[i][0],\n",
    "                                                       scores_deg_ref[i][1], scores_deg_ref[i][2]))\n",
    "    im_rec = cv2.imread('/content/drive/MyDrive/DIV2K/test/Reconstructed Images/' + rec[i])\n",
    "    axs[2].imshow(cv2.cvtColor(im_rec, cv2.COLOR_BGR2RGB))\n",
    "    axs[2].set_title('SRCNN')\n",
    "    axs[2].set(xlabel = 'PSNR: {} \\nMSE: {} \\nSSIM: {}'.format(scores_recon_ref[i][0],\n",
    "                                                        scores_recon_ref[i][1], scores_recon_ref[i][2]))\n",
    "    # remove the x and y ticks\n",
    "    for ax in axs:\n",
    "        ax.set_xticks([])\n",
    "        ax.set_yticks([])\n",
    "\n",
    "    # save the comparing images in \"test/results/\"\n",
    "    if not os.path.isdir('/content/drive/MyDrive/DIV2K/test/results'):\n",
    "        add = '/content/drive/MyDrive/DIV2K/test/results'\n",
    "        os.makedirs(add)\n",
    "    else:\n",
    "        add = '/content/drive/MyDrive/DIV2K/test/results'\n",
    "\n",
    "    fig.savefig('/content/drive/MyDrive/DIV2K/test/results/{}.png'.format(os.path.splitext(ref[i])[0])) \n",
    "    plt.close()"
   ]
  }
 ],
 "metadata": {
  "accelerator": "GPU",
  "colab": {
   "collapsed_sections": [],
   "name": "SRCNN_V3.ipynb",
   "provenance": []
  },
  "kernelspec": {
   "display_name": "Python 3 (ipykernel)",
   "language": "python",
   "name": "python3"
  },
  "language_info": {
   "codemirror_mode": {
    "name": "ipython",
    "version": 3
   },
   "file_extension": ".py",
   "mimetype": "text/x-python",
   "name": "python",
   "nbconvert_exporter": "python",
   "pygments_lexer": "ipython3",
   "version": "3.8.5"
  },
  "toc": {
   "base_numbering": 1,
   "nav_menu": {
    "height": "171px",
    "width": "258px"
   },
   "number_sections": true,
   "sideBar": true,
   "skip_h1_title": false,
   "title_cell": "Table of Contents",
   "title_sidebar": "Contents",
   "toc_cell": false,
   "toc_position": {
    "height": "251.28px",
    "left": "1012.8px",
    "top": "111.14px",
    "width": "184px"
   },
   "toc_section_display": true,
   "toc_window_display": false
  }
 },
 "nbformat": 4,
 "nbformat_minor": 5
}
